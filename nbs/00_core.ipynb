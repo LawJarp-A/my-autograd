{
 "cells": [
  {
   "cell_type": "markdown",
   "metadata": {},
   "source": [
    "# core\n",
    "\n",
    "> Contains the code that drives the backpropagation algorithm."
   ]
  },
  {
   "cell_type": "code",
   "execution_count": null,
   "metadata": {},
   "outputs": [],
   "source": [
    "#| default_exp core"
   ]
  },
  {
   "cell_type": "code",
   "execution_count": null,
   "metadata": {},
   "outputs": [],
   "source": [
    "#| hide\n",
    "from nbdev.showdoc import *"
   ]
  },
  {
   "cell_type": "code",
   "execution_count": null,
   "metadata": {},
   "outputs": [],
   "source": [
    "#| export\n",
    "\n",
    "# This class stores the Scalar values that we will use that contain the backpropagation information\n",
    "class Value:\n",
    "    '''\n",
    "    A scalar value that holds a gradient and a data value\n",
    "    '''\n",
    "    def __init__(self, data, _children=(), _op='', label=\"\"):\n",
    "        self.data = data\n",
    "        self.grad = 0\n",
    "        # The children are the values that were used to calculate this value\n",
    "        self._children = _children\n",
    "        # The op is the operation that was used to calculate this value\n",
    "        self._op = _op\n",
    "        # The backward function is the function that will be used to calculate the gradient\n",
    "        self._backward = lambda: None\n",
    "        self.label = label\n",
    "    \n",
    "    # Define how operators are used on the Value class\n",
    "\n",
    "    # Addition\n",
    "    def __add__(self, other):\n",
    "        other = other if isinstance(other, Value) else Value(other)\n",
    "        out = Value(self.data + other.data, (self, other), '+')\n",
    "        \n",
    "        # Define the backward function\n",
    "        def _backward():\n",
    "            self.grad += out.grad\n",
    "            other.grad += out.grad\n",
    "        out._backward = _backward\n",
    "        \n",
    "        return out\n",
    "    \n",
    "    # Multiplication\n",
    "    def __mul__(self, other):\n",
    "        other = other if isinstance(other, Value) else Value(other)\n",
    "        out = Value(self.data * other.data, (self, other), '*')\n",
    "        \n",
    "        # Define the backward function\n",
    "        def _backward():\n",
    "            self.grad += other.data * out.grad\n",
    "            other.grad += self.data * out.grad\n",
    "        out._backward = _backward\n",
    "        \n",
    "        return out\n",
    "    \n",
    "    # The Backward function\n",
    "    def backward(self):\n",
    "        # Start with a gradient of 1\n",
    "        self.grad = 1\n",
    "        # Topological sort\n",
    "        topo = []\n",
    "        visited = set()\n",
    "        def build_topo(v):\n",
    "            if v not in visited:\n",
    "                visited.add(v)\n",
    "                for child in v._children:\n",
    "                    build_topo(child)\n",
    "                topo.append(v)\n",
    "\n",
    "        build_topo(self)\n",
    "        \n",
    "        # For each node in the topological sort from the end, run the backward function\n",
    "        for v in reversed(topo):\n",
    "            v._backward()"
   ]
  },
  {
   "cell_type": "code",
   "execution_count": null,
   "metadata": {},
   "outputs": [],
   "source": [
    "#| hide\n",
    "\n",
    "from IPython.display import Image, display\n",
    "import graphviz\n",
    "\n",
    "def draw_dag(v):\n",
    "    # Create a Digraph object with specific graph attributes\n",
    "    dot = graphviz.Digraph(format='png', engine='dot', graph_attr={'rankdir': 'LR', 'ranksep': '0.4', 'nodesep': '0.4'})\n",
    "\n",
    "    # Dictionary to keep track of visited nodes\n",
    "    visited = {}\n",
    "\n",
    "    # Recursive function to build the graph\n",
    "    def build_dot(v):\n",
    "        if id(v) not in visited:\n",
    "            visited[id(v)] = v\n",
    "            # Create a label for the node containing operation, data, and gradient information\n",
    "            label = f\"{v.label}\\nOp: {v._op}\\nData: {v.data}\\nGradient: {v.grad}\"\n",
    "            # Add the node with a rectangular shape\n",
    "            dot.node(str(id(v)), label=label, shape='box', fontsize='10', width='1.5', height='0.75', margin='0.1')\n",
    "            for child in v._children:\n",
    "                # Create edges to child nodes\n",
    "                dot.edge(str(id(child)), str(id(v)))\n",
    "                # Recursively build the graph for child nodes\n",
    "                build_dot(child)\n",
    "    \n",
    "    # Call the recursive function to build the graph starting from the given Value\n",
    "    build_dot(v)\n",
    "\n",
    "    # Render the graph to a temporary file\n",
    "    dot.render('dag', view=False)\n",
    "\n",
    "    # Display the rendered image in the notebook\n",
    "    display(Image(filename='dag.png'))"
   ]
  },
  {
   "cell_type": "code",
   "execution_count": null,
   "metadata": {},
   "outputs": [
    {
     "data": {
      "image/png": "[encoded data removed]",
      "text/plain": [
       "<IPython.core.display.Image object>"
      ]
     },
     "metadata": {},
     "output_type": "display_data"
    }
   ],
   "source": [
    "# Create a temp Value to test the graphviz function\n",
    "w = Value(1, label=\"w\")\n",
    "b = Value(2, label=\"b\")\n",
    "x = Value(3, label=\"x\")\n",
    "y = w * x + b; y.label = \"y\"\n",
    "\n",
    "# Draw the graphviz DAG\n",
    "draw_dag(y)"
   ]
  },
  {
   "cell_type": "code",
   "execution_count": null,
   "metadata": {},
   "outputs": [],
   "source": []
  }
 ],
 "metadata": {
  "kernelspec": {
   "display_name": "python3",
   "language": "python",
   "name": "python3"
  }
 },
 "nbformat": 4,
 "nbformat_minor": 4
}
